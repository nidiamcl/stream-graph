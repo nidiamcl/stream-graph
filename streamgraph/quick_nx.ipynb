{
 "cells": [
  {
   "cell_type": "code",
   "execution_count": 37,
   "metadata": {},
   "outputs": [],
   "source": [
    "import networkx as nx"
   ]
  },
  {
   "cell_type": "code",
   "execution_count": 388,
   "metadata": {},
   "outputs": [],
   "source": [
    "data_path = '../../stream_graph_data/other_networks/'\n",
    "out_path = '../../stream_graph_data/nx/'\n",
    "network_name = 'ca-cit-HepTh.tsv'"
   ]
  },
  {
   "cell_type": "code",
   "execution_count": 398,
   "metadata": {},
   "outputs": [
    {
     "name": "stdout",
     "output_type": "stream",
     "text": [
      "Name: \n",
      "Type: Graph\n",
      "Number of nodes: 100\n",
      "Number of edges: 294\n",
      "Average degree:   5.8800\n",
      "Network density: 0.059393939393939395\n"
     ]
    }
   ],
   "source": [
    "with open(data_path + network_name) as f:\n",
    "    edges = f.readlines()\n",
    "    edges = [tuple(line.strip().split(' ')) for line in edges][2:]\n",
    "    edges = [(int(x[0]), int(x[1])) for x in edges]\n",
    "    \n",
    "graph = nx.Graph()\n",
    "graph.add_edges_from(edges)\n",
    "nx.write_gpickle(graph, out_path + network_name.split('.')[0] + '.pkl')\n",
    "graph = nx.read_gpickle(out_path+'harveytest2100.pkl')\n",
    "print(nx.info(graph))\n",
    "print(\"Network density:\", nx.density(graph))"
   ]
  },
  {
   "cell_type": "code",
   "execution_count": 1,
   "metadata": {},
   "outputs": [],
   "source": [
    "def kl_divergence(p, q):\n",
    "    return np.sum(np.where(p != 0, p * np.log(p / q), 0))"
   ]
  },
  {
   "cell_type": "code",
   "execution_count": null,
   "metadata": {},
   "outputs": [],
   "source": []
  }
 ],
 "metadata": {
  "kernelspec": {
   "display_name": "python3.7",
   "language": "python",
   "name": "python3.7"
  },
  "language_info": {
   "codemirror_mode": {
    "name": "ipython",
    "version": 3
   },
   "file_extension": ".py",
   "mimetype": "text/x-python",
   "name": "python",
   "nbconvert_exporter": "python",
   "pygments_lexer": "ipython3",
   "version": "3.7.6"
  }
 },
 "nbformat": 4,
 "nbformat_minor": 4
}
