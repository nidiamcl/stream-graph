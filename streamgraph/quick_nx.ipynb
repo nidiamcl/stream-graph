{
 "cells": [
  {
   "cell_type": "code",
   "execution_count": 1,
   "metadata": {},
   "outputs": [],
   "source": [
    "import networkx as nx\n",
    "from os import listdir\n",
    "import os.path"
   ]
  },
  {
   "cell_type": "code",
   "execution_count": 388,
   "metadata": {},
   "outputs": [],
   "source": [
    "data_path = '../../stream_graph_data/other_networks/'\n",
    "out_path = '../../stream_graph_data/nx/'\n",
    "network_name = 'ca-cit-HepTh.tsv'"
   ]
  },
  {
   "cell_type": "code",
   "execution_count": 398,
   "metadata": {},
   "outputs": [
    {
     "name": "stdout",
     "output_type": "stream",
     "text": [
      "Name: \n",
      "Type: Graph\n",
      "Number of nodes: 100\n",
      "Number of edges: 294\n",
      "Average degree:   5.8800\n",
      "Network density: 0.059393939393939395\n"
     ]
    }
   ],
   "source": [
    "with open(data_path + network_name) as f:\n",
    "    edges = f.readlines()\n",
    "    edges = [tuple(line.strip().split(' ')) for line in edges][2:]\n",
    "    edges = [(int(x[0]), int(x[1])) for x in edges]\n",
    "    \n",
    "graph = nx.Graph()\n",
    "graph.add_edges_from(edges)\n",
    "nx.write_gpickle(graph, out_path + network_name.split('.')[0] + '.pkl')\n",
    "graph = nx.read_gpickle(out_path+'harveytest2100.pkl')\n",
    "print(nx.info(graph))\n",
    "print(\"Network density:\", nx.density(graph))"
   ]
  },
  {
   "cell_type": "code",
   "execution_count": null,
   "metadata": {},
   "outputs": [],
   "source": []
  },
  {
   "cell_type": "code",
   "execution_count": null,
   "metadata": {},
   "outputs": [],
   "source": []
  },
  {
   "cell_type": "markdown",
   "metadata": {},
   "source": [
    "### create files with nodes and number of edges of nodes per graphs"
   ]
  },
  {
   "cell_type": "code",
   "execution_count": 10,
   "metadata": {},
   "outputs": [],
   "source": [
    "files_path = '../../stream_graph_data/nx_graphs/large/'\n",
    "files = [files_path + f for f in listdir(files_path)]"
   ]
  },
  {
   "cell_type": "code",
   "execution_count": 11,
   "metadata": {},
   "outputs": [
    {
     "name": "stdout",
     "output_type": "stream",
     "text": [
      "email_enron\n",
      "ca-GrQc\n",
      "astro-ph\n",
      "ca-HepPh\n",
      "twitch_ES\n",
      "ca-CondMat\n",
      "ca-HepTh\n",
      "twitch_FR\n",
      "pretty_good_privacy\n",
      "twitch_RU\n",
      "route_views\n",
      "ca-cit-HepTh\n",
      "brightkite\n",
      "twitch_ENGB\n",
      "reactome\n"
     ]
    }
   ],
   "source": [
    "for file in files:\n",
    "    \n",
    "    network = file.split('/')[-1].split('.')[0]\n",
    "    g = nx.read_gpickle(file)\n",
    "    print(network)\n",
    "    \n",
    "    for node in list(g.nodes):\n",
    "        f = open(files_path + network + '_node_edges' + '.txt', 'a+')\n",
    "        f.write('{},{}\\n'.format(node, len(g.adj[node])))\n",
    "        f.close()    "
   ]
  },
  {
   "cell_type": "code",
   "execution_count": null,
   "metadata": {},
   "outputs": [],
   "source": [
    "#         num_nodes = nx.number_of_nodes(g)  "
   ]
  }
 ],
 "metadata": {
  "kernelspec": {
   "display_name": "python3.7",
   "language": "python",
   "name": "python3.7"
  },
  "language_info": {
   "codemirror_mode": {
    "name": "ipython",
    "version": 3
   },
   "file_extension": ".py",
   "mimetype": "text/x-python",
   "name": "python",
   "nbconvert_exporter": "python",
   "pygments_lexer": "ipython3",
   "version": "3.7.7"
  }
 },
 "nbformat": 4,
 "nbformat_minor": 4
}
