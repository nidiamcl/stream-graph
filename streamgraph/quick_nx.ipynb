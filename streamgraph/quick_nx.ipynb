{
 "cells": [
  {
   "cell_type": "code",
   "execution_count": 1,
   "metadata": {},
   "outputs": [],
   "source": [
    "import networkx as nx\n",
    "from os import listdir\n",
    "import os.path"
   ]
  },
  {
   "cell_type": "code",
   "execution_count": 388,
   "metadata": {},
   "outputs": [],
   "source": [
    "data_path = '../../stream_graph_data/other_networks/'\n",
    "out_path = '../../stream_graph_data/nx/'\n",
    "network_name = 'ca-cit-HepTh.tsv'"
   ]
  },
  {
   "cell_type": "code",
   "execution_count": 398,
   "metadata": {},
   "outputs": [
    {
     "name": "stdout",
     "output_type": "stream",
     "text": [
      "Name: \n",
      "Type: Graph\n",
      "Number of nodes: 100\n",
      "Number of edges: 294\n",
      "Average degree:   5.8800\n",
      "Network density: 0.059393939393939395\n"
     ]
    }
   ],
   "source": [
    "with open(data_path + network_name) as f:\n",
    "    edges = f.readlines()\n",
    "    edges = [tuple(line.strip().split(' ')) for line in edges][2:]\n",
    "    edges = [(int(x[0]), int(x[1])) for x in edges]\n",
    "    \n",
    "graph = nx.Graph()\n",
    "graph.add_edges_from(edges)\n",
    "nx.write_gpickle(graph, out_path + network_name.split('.')[0] + '.pkl')\n",
    "graph = nx.read_gpickle(out_path+'harveytest2100.pkl')\n",
    "print(nx.info(graph))\n",
    "print(\"Network density:\", nx.density(graph))"
   ]
  },
  {
   "cell_type": "code",
   "execution_count": null,
   "metadata": {},
   "outputs": [],
   "source": []
  },
  {
   "cell_type": "code",
   "execution_count": null,
   "metadata": {},
   "outputs": [],
   "source": []
  },
  {
   "cell_type": "markdown",
   "metadata": {},
   "source": [
    "### create files with nodes and number of edges of nodes per graphs"
   ]
  },
  {
   "cell_type": "code",
   "execution_count": 2,
   "metadata": {},
   "outputs": [],
   "source": [
    "files_path = '../../stream_graph_data/nx_graphs/harvey/'\n",
    "files = [files_path + f for f in listdir(files_path)]"
   ]
  },
  {
   "cell_type": "code",
   "execution_count": 11,
   "metadata": {},
   "outputs": [
    {
     "name": "stdout",
     "output_type": "stream",
     "text": [
      "email_enron\n",
      "ca-GrQc\n",
      "astro-ph\n",
      "ca-HepPh\n",
      "twitch_ES\n",
      "ca-CondMat\n",
      "ca-HepTh\n",
      "twitch_FR\n",
      "pretty_good_privacy\n",
      "twitch_RU\n",
      "route_views\n",
      "ca-cit-HepTh\n",
      "brightkite\n",
      "twitch_ENGB\n",
      "reactome\n"
     ]
    }
   ],
   "source": [
    "for file in files:\n",
    "    \n",
    "    network = file.split('/')[-1].split('.')[0]\n",
    "    g = nx.read_gpickle(file)\n",
    "    print(network)\n",
    "    \n",
    "    for node in list(g.nodes):\n",
    "        f = open(files_path + network + '_node_edges' + '.txt', 'a+')\n",
    "        f.write('{},{}\\n'.format(node, len(g.adj[node])))\n",
    "        f.close()    "
   ]
  },
  {
   "cell_type": "code",
   "execution_count": 4,
   "metadata": {},
   "outputs": [
    {
     "name": "stdout",
     "output_type": "stream",
     "text": [
      "harveysept17 1462 86361 0.08086304098068242\n",
      "harveyaug25 13624 7998300 0.08618869275213256\n",
      "harveysept14 2454 199145 0.06616484447133411\n",
      "harveysept15 2802 470703 0.11994874880262249\n",
      "harveytest2100 100 294 0.059393939393939395\n",
      "harveysept18 2418 227563 0.0778751146842756\n",
      "harveyaug29 20308 20248893 0.0982015533687113\n",
      "harveysept16 1529 95783 0.08199504175812135\n",
      "harveysept07 4887 1506559 0.1261886627968092\n",
      "harveysept19 3982 918954 0.11593920948715337\n",
      "harveysept04 4377 830401 0.08670896438462813\n",
      "harveysept08 4884 1763569 0.14789724097526677\n",
      "harveyaug26 9527 2781037 0.06128723384069864\n",
      "harveysept01 7872 2692639 0.08691467881995553\n",
      "harveysept05 5387 1382907 0.09532562161758262\n",
      "harveysept24 4507 1034173 0.10184610987829654\n",
      "harveysept20 2996 377038 0.08403814992053957\n",
      "harveyaug17 2399 278287 0.09674833237785692\n",
      "harveyaug31 10279 3818522 0.0722879341030132\n",
      "harveyaug18 2388 264197 0.09269816475198223\n",
      "harveysept11 3375 1024752 0.17998234867944413\n",
      "harveyaug30 9339 3317162 0.07607508255417517\n",
      "harveysept23 2064 247565 0.11628141827022437\n",
      "harveyaug23 3770 538172 0.07575016908142863\n",
      "harveysept06 5498 1970300 0.13038627571121997\n",
      "harveysept25 2120 202858 0.0903140498811294\n",
      "harveysept22 2597 292441 0.08675442151160548\n",
      "harveysept12 2612 268177 0.07864506566927647\n",
      "harveysept21 3008 391832 0.08664003849174622\n",
      "harveysept02 5433 1388103 0.09407023353439015\n",
      "harveyaug24 7416 2609277 0.09490067583639392\n",
      "harveyaug19 9284 3700391 0.0858725045012163\n",
      "harveysept09 4545 1656812 0.16044678411503122\n",
      "harveysept10 6350 7067454 0.3506016323483269\n",
      "harveysept03 6942 3715451 0.1542179337546064\n",
      "harveysept13 2215 180374 0.07356184020831931\n"
     ]
    }
   ],
   "source": [
    "for file in files:\n",
    "    network = file.split('/')[-1].split('.')[0]\n",
    "    g = nx.read_gpickle(file)\n",
    "    print(network, nx.number_of_nodes(g), nx.number_of_edges(g), nx.density(g))"
   ]
  },
  {
   "cell_type": "code",
   "execution_count": null,
   "metadata": {},
   "outputs": [],
   "source": []
  }
 ],
 "metadata": {
  "kernelspec": {
   "display_name": "python3.7",
   "language": "python",
   "name": "python3.7"
  },
  "language_info": {
   "codemirror_mode": {
    "name": "ipython",
    "version": 3
   },
   "file_extension": ".py",
   "mimetype": "text/x-python",
   "name": "python",
   "nbconvert_exporter": "python",
   "pygments_lexer": "ipython3",
   "version": "3.7.7"
  }
 },
 "nbformat": 4,
 "nbformat_minor": 4
}
