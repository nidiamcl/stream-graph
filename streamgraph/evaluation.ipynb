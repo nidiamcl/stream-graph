{
 "cells": [
  {
   "cell_type": "code",
   "execution_count": 4,
   "metadata": {},
   "outputs": [],
   "source": [
    "from evaluation import *\n",
    "import matplotlib.pyplot as plt\n",
    "import seaborn as sb\n",
    "%matplotlib inline"
   ]
  },
  {
   "cell_type": "code",
   "execution_count": null,
   "metadata": {},
   "outputs": [],
   "source": [
    "data_path = '../../stream_graph_data/built_networks_nx/'\n",
    "out_path = '../../stream_graph_data/experiments/'\n",
    "\n",
    "all_files = [f for f in listdir(data_path) if isfile(join(data_path, f))]"
   ]
  },
  {
   "cell_type": "code",
   "execution_count": 25,
   "metadata": {},
   "outputs": [
    {
     "name": "stderr",
     "output_type": "stream",
     "text": [
      "  2%|▏         | 2/81 [00:00<00:06, 12.93it/s]"
     ]
    },
    {
     "name": "stdout",
     "output_type": "stream",
     "text": [
      "Name: harveytest2100.pkl\n",
      "Type: Graph\n",
      "Number of nodes: 100\n",
      "Number of edges: 294\n",
      "Average degree:   5.8800\n",
      "density: 0.059393939393939395\n"
     ]
    },
    {
     "name": "stderr",
     "output_type": "stream",
     "text": [
      "100%|██████████| 81/81 [00:18<00:00,  4.50it/s]\n",
      "  0%|          | 0/81 [00:00<?, ?it/s]"
     ]
    },
    {
     "name": "stdout",
     "output_type": "stream",
     "text": [
      "initial_threshold: 0.1111111111111111\n",
      "merging_threshold: 0.1111111111111111\n",
      "highest_score:0.5521368411310105\n",
      "initial_clusters:18\n",
      "clusters_merged:0\n",
      "remaining_clusters:18\n",
      "louvain: 0.6162362904345411\n",
      "\n",
      "Name: harveytest2100 (copy).pkl\n",
      "Type: Graph\n",
      "Number of nodes: 100\n",
      "Number of edges: 294\n",
      "Average degree:   5.8800\n",
      "density: 0.059393939393939395\n"
     ]
    },
    {
     "name": "stderr",
     "output_type": "stream",
     "text": [
      "100%|██████████| 81/81 [00:18<00:00,  4.46it/s]"
     ]
    },
    {
     "name": "stdout",
     "output_type": "stream",
     "text": [
      "initial_threshold: 0.1111111111111111\n",
      "merging_threshold: 0.1111111111111111\n",
      "highest_score:0.5521368411310105\n",
      "initial_clusters:18\n",
      "clusters_merged:0\n",
      "remaining_clusters:18\n",
      "louvain: 0.6162362904345411\n",
      "\n"
     ]
    },
    {
     "name": "stderr",
     "output_type": "stream",
     "text": [
      "\n"
     ]
    }
   ],
   "source": [
    "# data_path = '../../stream_graph_data/built_networks_nx/'\n",
    "data_path = '../../stream_graph_data/test/'\n",
    "out_path = '../../stream_graph_data/experiments/'\n",
    "\n",
    "all_files = [f for f in listdir(data_path) if isfile(join(data_path, f))]\n",
    "\n",
    "for f in all_files:\n",
    "    network_name = f\n",
    "    g = nx.read_gpickle(data_path + network_name)\n",
    "    g.name = network_name\n",
    "    \n",
    "    info = nx.info(g)\n",
    "    density = nx.density(g)\n",
    "    print(info)\n",
    "    print('density: ' + str(density))\n",
    "          \n",
    "    d = thresholdSearch(g, network_name = network_name, \n",
    "                    initial_start=0, initial_stop=1, initial_num=10, \n",
    "                    merging_start=0, merging_stop=1, merging_num=10, log=False)\n",
    "    \n",
    "        # turn scores (dict) into dataframe\n",
    "    df = pd.DataFrame.from_dict(d, orient='index')\n",
    "\n",
    "    # sort by score to see best score\n",
    "    df = df.sort_values(by='score', ascending=False)\n",
    "    initial_t = df.initial_threshold.iloc[0]\n",
    "    merging_t = df.merging_threshold.iloc[0]\n",
    "    highest_score = df.score.iloc[0]\n",
    "    initial_clusters = df.clusters_found.iloc[0]\n",
    "    clusters_merged = df.clusters_merged.iloc[0]\n",
    "    final_clusters = df.remaining_clusters.iloc[0]\n",
    "    \n",
    "    print('initial_threshold: ' + str(initial_t))\n",
    "    print('merging_threshold: ' + str(merging_t))\n",
    "    print('highest_score:' + str(highest_score))\n",
    "    print('initial_clusters:' + str(initial_clusters))\n",
    "    print('clusters_merged:' + str(clusters_merged))\n",
    "    print('remaining_clusters:' + str(final_clusters))\n",
    "    \n",
    "    communities = louvain(g)\n",
    "    mod = evaluation.newman_girvan_modularity(g,communities)\n",
    "    print('louvain: ' +  str(mod.score))\n",
    "    print('')\n",
    "    \n",
    "    f = open('output.txt', 'a+')\n",
    "    f.write('{}\\n'.format(info))\n",
    "    f.write('density: {}\\n'.format(density))\n",
    "    f.write('initial_threshold: {}\\n'.format(initial_t))\n",
    "    f.write('merging_threshold: {}\\n'.format(merging_t))\n",
    "    f.write('highest_score: {}\\n'.format(highest_score))\n",
    "    f.write('initial_cluster: {}\\n'.format(initial_clusters))\n",
    "    f.write('clusters_merged: {}\\n'.format(clusters_merged))\n",
    "    f.write('final_clusters: {}\\n'.format(final_clusters))\n",
    "    f.write('louvain_score: {}\\n'.format(mod.score))\n",
    "    f.write('\\n')\n",
    "    f.close()"
   ]
  },
  {
   "cell_type": "markdown",
   "metadata": {},
   "source": [
    "##  Build networkx graph from file with edges per node"
   ]
  },
  {
   "cell_type": "code",
   "execution_count": 2,
   "metadata": {},
   "outputs": [
    {
     "name": "stdout",
     "output_type": "stream",
     "text": [
      "Name: Email network\n",
      "Type: Graph\n",
      "Number of nodes: 1005\n",
      "Number of edges: 16706\n",
      "Average degree:  33.2458\n",
      "Network density: 0.03311331787278746\n"
     ]
    }
   ],
   "source": [
    "g = buildGraph(data_path, email)"
   ]
  },
  {
   "cell_type": "markdown",
   "metadata": {},
   "source": [
    "## Twitter graphs, loaded from nx serialized objects"
   ]
  },
  {
   "cell_type": "code",
   "execution_count": 36,
   "metadata": {},
   "outputs": [
    {
     "name": "stdout",
     "output_type": "stream",
     "text": [
      "Name: aug25.pkl\n",
      "Type: Graph\n",
      "Number of nodes: 13624\n",
      "Number of edges: 7998300\n",
      "Average degree: 1174.1486\n"
     ]
    }
   ],
   "source": [
    "data_path = '../../stream_graph_data/built_networks_nx/'\n",
    "network_name = 'aug25.pkl'\n",
    "\n",
    "g = nx.read_gpickle(data_path + network_name)\n",
    "g.name = network_name\n",
    "print(nx.info(g))"
   ]
  },
  {
   "cell_type": "code",
   "execution_count": 37,
   "metadata": {},
   "outputs": [
    {
     "data": {
      "text/plain": [
       "0.08618869275213256"
      ]
     },
     "execution_count": 37,
     "metadata": {},
     "output_type": "execute_result"
    }
   ],
   "source": [
    "nx.density(g)"
   ]
  },
  {
   "cell_type": "markdown",
   "metadata": {
    "jupyter": {
     "source_hidden": true
    }
   },
   "source": [
    "## findClusters example"
   ]
  },
  {
   "cell_type": "code",
   "execution_count": 3,
   "metadata": {
    "collapsed": true,
    "jupyter": {
     "outputs_hidden": true,
     "source_hidden": true
    }
   },
   "outputs": [
    {
     "name": "stdout",
     "output_type": "stream",
     "text": [
      "clusters found: 50\n",
      "clusters merged: 8\n",
      "remaining clusters: 42\n"
     ]
    }
   ],
   "source": [
    "first_th = 0.08\n",
    "second_th = 0.005\n",
    "\n",
    "fps, fmap = findClusters(g, first_th)\n",
    "print('clusters found: ' + str(len(fmap)))\n",
    "\n",
    "merged_fps, merged_fmap = mergeFingerprints(fps, fmap, second_th)\n",
    "print('clusters merged: ' + str(len(fmap)-len(merged_fmap)))\n",
    "print('remaining clusters: ' + str(len(merged_fmap)))"
   ]
  },
  {
   "cell_type": "code",
   "execution_count": 29,
   "metadata": {},
   "outputs": [
    {
     "data": {
      "text/plain": [
       "'../../stream_graph_data/built_networks_nx/aug24.pklgraph.png'"
      ]
     },
     "execution_count": 29,
     "metadata": {},
     "output_type": "execute_result"
    }
   ],
   "source": [
    "data_path + network_name + 'graph.png'"
   ]
  },
  {
   "cell_type": "markdown",
   "metadata": {},
   "source": [
    "## Calculate fitness scores"
   ]
  },
  {
   "cell_type": "code",
   "execution_count": null,
   "metadata": {},
   "outputs": [
    {
     "name": "stderr",
     "output_type": "stream",
     "text": [
      " 93%|█████████▎| 75/81 [22:26:13<14:00:37, 8406.31s/it]"
     ]
    }
   ],
   "source": [
    "d = thresholdSearch(g, network_name = network_name, \n",
    "                    initial_start=0, initial_stop=1, initial_num=10, \n",
    "                    merging_start=0, merging_stop=1, merging_num=10, log=False)"
   ]
  },
  {
   "cell_type": "code",
   "execution_count": 8,
   "metadata": {},
   "outputs": [],
   "source": [
    "# load scores (dict) from pkl file\n",
    "# with open(data_path + network_name + '.pkl', 'rb') as f:\n",
    "#     d = pickle.load(f)\n",
    "    \n",
    "    # load scores (dict) from pkl file\n",
    "with open('../../stream_graph_data/networks_ground_truth_communities/aug17_clusters.pkl', 'rb') as f:\n",
    "    d = pickle.load(f)"
   ]
  },
  {
   "cell_type": "code",
   "execution_count": 32,
   "metadata": {},
   "outputs": [
    {
     "data": {
      "text/html": [
       "<div>\n",
       "<style scoped>\n",
       "    .dataframe tbody tr th:only-of-type {\n",
       "        vertical-align: middle;\n",
       "    }\n",
       "\n",
       "    .dataframe tbody tr th {\n",
       "        vertical-align: top;\n",
       "    }\n",
       "\n",
       "    .dataframe thead th {\n",
       "        text-align: right;\n",
       "    }\n",
       "</style>\n",
       "<table border=\"1\" class=\"dataframe\">\n",
       "  <thead>\n",
       "    <tr style=\"text-align: right;\">\n",
       "      <th></th>\n",
       "      <th>initial_threshold</th>\n",
       "      <th>merging_threshold</th>\n",
       "      <th>score</th>\n",
       "      <th>clusters_found</th>\n",
       "      <th>clusters_merged</th>\n",
       "      <th>remaining_clusters</th>\n",
       "    </tr>\n",
       "  </thead>\n",
       "  <tbody>\n",
       "    <tr>\n",
       "      <th>80</th>\n",
       "      <td>1.0</td>\n",
       "      <td>1.000000</td>\n",
       "      <td>-0.000203</td>\n",
       "      <td>7416</td>\n",
       "      <td>0</td>\n",
       "      <td>7416</td>\n",
       "    </tr>\n",
       "    <tr>\n",
       "      <th>79</th>\n",
       "      <td>1.0</td>\n",
       "      <td>0.888889</td>\n",
       "      <td>0.000265</td>\n",
       "      <td>7416</td>\n",
       "      <td>1346</td>\n",
       "      <td>6070</td>\n",
       "    </tr>\n",
       "    <tr>\n",
       "      <th>78</th>\n",
       "      <td>1.0</td>\n",
       "      <td>0.777778</td>\n",
       "      <td>0.000269</td>\n",
       "      <td>7416</td>\n",
       "      <td>1356</td>\n",
       "      <td>6060</td>\n",
       "    </tr>\n",
       "    <tr>\n",
       "      <th>77</th>\n",
       "      <td>1.0</td>\n",
       "      <td>0.666667</td>\n",
       "      <td>0.000270</td>\n",
       "      <td>7416</td>\n",
       "      <td>1360</td>\n",
       "      <td>6056</td>\n",
       "    </tr>\n",
       "    <tr>\n",
       "      <th>75</th>\n",
       "      <td>1.0</td>\n",
       "      <td>0.444444</td>\n",
       "      <td>0.000271</td>\n",
       "      <td>7416</td>\n",
       "      <td>1363</td>\n",
       "      <td>6053</td>\n",
       "    </tr>\n",
       "  </tbody>\n",
       "</table>\n",
       "</div>"
      ],
      "text/plain": [
       "    initial_threshold  merging_threshold     score  clusters_found  \\\n",
       "80                1.0           1.000000 -0.000203            7416   \n",
       "79                1.0           0.888889  0.000265            7416   \n",
       "78                1.0           0.777778  0.000269            7416   \n",
       "77                1.0           0.666667  0.000270            7416   \n",
       "75                1.0           0.444444  0.000271            7416   \n",
       "\n",
       "    clusters_merged  remaining_clusters  \n",
       "80                0                7416  \n",
       "79             1346                6070  \n",
       "78             1356                6060  \n",
       "77             1360                6056  \n",
       "75             1363                6053  "
      ]
     },
     "execution_count": 32,
     "metadata": {},
     "output_type": "execute_result"
    }
   ],
   "source": [
    "# turn scores (dict) into dataframe\n",
    "df = pd.DataFrame.from_dict(d, orient='index')\n",
    "\n",
    "# sort by score to see best score\n",
    "df = df.sort_values(by='score', ascending=True)\n",
    "df.head()"
   ]
  },
  {
   "cell_type": "markdown",
   "metadata": {},
   "source": [
    "## CDlib evaluation"
   ]
  },
  {
   "cell_type": "code",
   "execution_count": 33,
   "metadata": {},
   "outputs": [
    {
     "data": {
      "image/png": "[encoded data removed]",
      "text/plain": [
       "<Figure size 1440x720 with 2 Axes>"
      ]
     },
     "metadata": {},
     "output_type": "display_data"
    }
   ],
   "source": [
    "plotScores(df, network_name)"
   ]
  },
  {
   "cell_type": "code",
   "execution_count": 34,
   "metadata": {},
   "outputs": [
    {
     "data": {
      "text/plain": [
       "0.5053588352851804"
      ]
     },
     "execution_count": 34,
     "metadata": {},
     "output_type": "execute_result"
    }
   ],
   "source": [
    "# email with Louvain\n",
    "communities = louvain(g)\n",
    "mod = evaluation.newman_girvan_modularity(g,communities)\n",
    "mod.score"
   ]
  },
  {
   "cell_type": "markdown",
   "metadata": {},
   "source": [
    "## Plot and save graph as png"
   ]
  },
  {
   "cell_type": "code",
   "execution_count": null,
   "metadata": {},
   "outputs": [],
   "source": [
    "plotGraph(g, network_name, data_path)"
   ]
  },
  {
   "cell_type": "code",
   "execution_count": null,
   "metadata": {},
   "outputs": [],
   "source": []
  },
  {
   "cell_type": "code",
   "execution_count": null,
   "metadata": {},
   "outputs": [],
   "source": [
    "import seaborn as sns\n",
    "import matplotlib.pyplot as plt\n",
    "\n",
    "tips = sns.load_dataset(\"tips\")\n",
    "\n",
    "points = plt.scatter(tips[\"total_bill\"], tips[\"tip\"],\n",
    "                     c=tips[\"size\"], s=75, cmap=\"BuGn\")\n",
    "plt.colorbar(points)\n",
    "\n",
    "sns.regplot(\"total_bill\", \"tip\", data=tips, scatter=False, color=\".1\")"
   ]
  },
  {
   "cell_type": "code",
   "execution_count": null,
   "metadata": {},
   "outputs": [],
   "source": []
  },
  {
   "cell_type": "code",
   "execution_count": null,
   "metadata": {},
   "outputs": [],
   "source": []
  },
  {
   "cell_type": "code",
   "execution_count": null,
   "metadata": {},
   "outputs": [],
   "source": [
    "    # load scores (dict) from pkl file\n",
    "with open('../../stream_graph_data/networks_ground_truth_communities/aug17_clusters.pkl', 'rb') as f:\n",
    "    d = pickle.load(f)"
   ]
  }
 ],
 "metadata": {
  "kernelspec": {
   "display_name": "python3.7",
   "language": "python",
   "name": "python3.7"
  },
  "language_info": {
   "codemirror_mode": {
    "name": "ipython",
    "version": 3
   },
   "file_extension": ".py",
   "mimetype": "text/x-python",
   "name": "python",
   "nbconvert_exporter": "python",
   "pygments_lexer": "ipython3",
   "version": "3.7.6"
  }
 },
 "nbformat": 4,
 "nbformat_minor": 4
}
