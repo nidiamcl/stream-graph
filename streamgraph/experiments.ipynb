{
 "cells": [
  {
   "cell_type": "code",
   "execution_count": 28,
   "metadata": {},
   "outputs": [
    {
     "name": "stdout",
     "output_type": "stream",
     "text": [
      "Python 3.7.6\n"
     ]
    }
   ],
   "source": [
    "! python --version"
   ]
  },
  {
   "cell_type": "code",
   "execution_count": 29,
   "metadata": {},
   "outputs": [],
   "source": [
    "from clusters import *\n",
    "from os import listdir\n",
    "from os.path import isfile, join\n",
    "from operator import itemgetter\n",
    "from networkx.algorithms import community #This part of networkx, for community detection, needs to be imported separately.\n",
    "\n",
    "import cdlib\n",
    "from cdlib.algorithms import louvain\n",
    "from cdlib import evaluation"
   ]
  },
  {
   "cell_type": "code",
   "execution_count": 30,
   "metadata": {},
   "outputs": [],
   "source": [
    "in_path = '../../stream_graph_data/networks_ground_truth_communities/'\n",
    "network = 'email/email-Eu-core.txt'\n",
    "membership = 'email/email-Eu-core-department-labels.txt'"
   ]
  },
  {
   "cell_type": "markdown",
   "metadata": {},
   "source": [
    "### Build Graph"
   ]
  },
  {
   "cell_type": "code",
   "execution_count": 31,
   "metadata": {},
   "outputs": [
    {
     "name": "stdout",
     "output_type": "stream",
     "text": [
      "Name: \n",
      "Type: Graph\n",
      "Number of nodes: 1005\n",
      "Number of edges: 16706\n",
      "Average degree:  33.2458\n",
      "Network density: 0.03311331787278746\n"
     ]
    }
   ],
   "source": [
    "with open(in_path + network) as f:\n",
    "    edges = f.readlines()\n",
    "    edges = [tuple(line.strip().split(' ')) for line in edges]\n",
    "    edges = [(int(x[0]), int(x[1])) for x in edges]\n",
    "    \n",
    "graph = nx.Graph()\n",
    "graph.add_edges_from(edges)\n",
    "\n",
    "print(nx.info(graph))\n",
    "print(\"Network density:\", nx.density(graph))"
   ]
  },
  {
   "cell_type": "code",
   "execution_count": 42,
   "metadata": {},
   "outputs": [
    {
     "data": {
      "image/png": "[encoded data removed]",
      "text/plain": [
       "<Figure size 432x288 with 1 Axes>"
      ]
     },
     "metadata": {},
     "output_type": "display_data"
    }
   ],
   "source": [
    "nx.draw(graph, with_labels=True, node_color='#A4CACA', figsize=(500,500), node_size=500, font_size=6)"
   ]
  },
  {
   "cell_type": "code",
   "execution_count": null,
   "metadata": {},
   "outputs": [],
   "source": [
    "# If your graph has more than one component, this will return False:\n",
    "print(nx.is_connected(graph))\n",
    "\n",
    "# Next, use nx.connected_components to get the list of components,\n",
    "# then use the max() command to find the largest one:\n",
    "components = nx.connected_components(graph)\n",
    "largest_component = max(components, key=len)\n",
    "\n",
    "# Create a \"subgraph\" of just the largest component\n",
    "# Then calculate the diameter of the subgraph, just like you did with density.\n",
    "#\n",
    "\n",
    "subgraph = graph.subgraph(largest_component)\n",
    "diameter = nx.diameter(subgraph)\n",
    "print(\"Network diameter of largest component:\", diameter)\n",
    "\n",
    "triadic_closure = nx.transitivity(graph)\n",
    "print(\"Triadic closure:\", triadic_closure)"
   ]
  },
  {
   "cell_type": "markdown",
   "metadata": {},
   "source": [
    "## Centrality measures"
   ]
  },
  {
   "cell_type": "code",
   "execution_count": null,
   "metadata": {},
   "outputs": [],
   "source": [
    "# degree: nodes with highest degree are hubs \n",
    "# calculate degree and add it as an attribute to the network\n",
    "degree_dict = dict(graph.degree(graph.nodes()))\n",
    "nx.set_node_attributes(graph, degree_dict, 'degree')\n",
    "\n",
    "# sort dict by node degree\n",
    "sorted_degree = sorted(degree_dict.items(), key=itemgetter(1), reverse=True)\n",
    "\n",
    "print(\"Top 20 nodes by degree:\")\n",
    "for d in sorted_degree[:20]:\n",
    "    print(d)\n",
    "\n",
    "# eigenvector centrality: if a node is a hub, how many hubs is it connected to    \n",
    "# useful for understanding which nodes can get information to many other nodes quickly. \n",
    "# If you know a lot of well-connected people, you could spread a message very efficiently.\n",
    "eigenvector_dict = nx.eigenvector_centrality(graph) # Run eigenvector centrality\n",
    "\n",
    "# betweenness centrality: looks at all the shortest paths that pass through a particular node\n",
    "betweenness_dict = nx.betweenness_centrality(graph) # Run betweenness centrality\n",
    "\n",
    "# assign each to an attribute in your network\n",
    "nx.set_node_attributes(graph, betweenness_dict, 'betweenness')\n",
    "nx.set_node_attributes(graph, eigenvector_dict, 'eigenvector')\n",
    "\n",
    "# assign each to an attribute in the network\n",
    "nx.set_node_attributes(graph, betweenness_dict, 'betweenness')\n",
    "nx.set_node_attributes(graph, eigenvector_dict, 'eigenvector')\n",
    "\n",
    "sorted_betweenness = sorted(betweenness_dict.items(), key=itemgetter(1), reverse=True)\n",
    "print(' ')\n",
    "print(\"Top 20 nodes by betweenness centrality:\")\n",
    "for b in sorted_betweenness[:20]:\n",
    "    print(b)\n",
    "    \n",
    "# which high-betweenness nodes are unexpected?\n",
    "\n",
    "# first get the top 20 nodes by betweenness as a list\n",
    "top_betweenness = sorted_betweenness[:20]\n",
    "\n",
    "# then find and print their degree\n",
    "print(' ')\n",
    "for tb in top_betweenness: # Loop through top_betweenness\n",
    "    degree = degree_dict[tb[0]] # Use degree_dict to access a node's degree, see footnote 2\n",
    "    print(\"Name:\", tb[0], \"| Betweenness Centrality:\", tb[1], \"| Degree:\", degree)"
   ]
  },
  {
   "cell_type": "markdown",
   "metadata": {},
   "source": [
    "## Modularity\n",
    "\n",
    "Modularity is a measure of relative density in your network: \n",
    "a community (called a module or modularity class) has high density relative to other nodes within its module \n",
    "but low density with those outside. \n",
    "Modularity gives you an overall score of how fractious a network is\n",
    "and that score can be used to partition the network and return the individual communities."
   ]
  },
  {
   "cell_type": "code",
   "execution_count": 101,
   "metadata": {},
   "outputs": [
    {
     "name": "stdout",
     "output_type": "stream",
     "text": [
      "number of communities found 44\n"
     ]
    }
   ],
   "source": [
    "communities_nx = community.greedy_modularity_communities(graph)\n",
    "print('number of communities found ' + str(len(communities_nx)))\n",
    "\n",
    "modularity_dict = {} # create a blank dictionary\n",
    "for i,c in enumerate(communities_nx): # loop through the list of communities, keeping track of the number for the community\n",
    "    for name in c: # loop through each person in a community\n",
    "        modularity_dict[name] = i # create an entry in the dictionary for the person, where the value is which group they belong to.\n",
    "\n",
    "# can add modularity information as attribute\n",
    "nx.set_node_attributes(graph, modularity_dict, 'modularity')\n",
    "\n",
    "# find and list all of the modularity classes and their members\n",
    "\n",
    "for i,c in enumerate(communities_nx): # loop through the list of communities\n",
    "#     if len(c) > 2: # filter out modularity classes with 2 or fewer nodes\n",
    "      print('Class '+str(i)+':', list(c)) # Print out the classes and their members"
   ]
  },
  {
   "cell_type": "markdown",
   "metadata": {},
   "source": [
    "## Ground truth membership"
   ]
  },
  {
   "cell_type": "code",
   "execution_count": 44,
   "metadata": {},
   "outputs": [],
   "source": [
    "# NODEID DEPARTMENT\n",
    "\n",
    "with open(in_path + membership) as file:\n",
    "    m = file.readlines()\n",
    "    m = [line.strip().split(' ') for line in m]\n",
    "    m = [ [int(x[0]), int(x[1])] for x in m]\n",
    "    \n",
    "communities = [int(line[1]) for line in m]\n",
    "communities = list(set(communities))\n",
    "\n",
    "membership = defaultdict(list)\n",
    "\n",
    "for item in m: \n",
    "    membership[item[1]].append(item[0])\n",
    "    \n",
    "communities = [int(line[1]) for line in m]\n",
    "communities = list(set(communities))\n",
    "\n",
    "# dictionary where values are communities (list of elements in a community)\n",
    "membership = defaultdict(list)\n",
    "\n",
    "for item in m: \n",
    "    membership[item[1]].append(item[0])"
   ]
  },
  {
   "cell_type": "code",
   "execution_count": 83,
   "metadata": {},
   "outputs": [],
   "source": [
    "first_th = 0.08\n",
    "second_th = 0.005"
   ]
  },
  {
   "cell_type": "code",
   "execution_count": 84,
   "metadata": {},
   "outputs": [
    {
     "name": "stdout",
     "output_type": "stream",
     "text": [
      "clusters found: 50\n",
      "\n",
      "clusters merged: 8\n",
      "remaining clusters: 42\n"
     ]
    }
   ],
   "source": [
    "fps, fmap = findClusters(graph, first_th)\n",
    "print('clusters found: ' + str(len(fmap)))\n",
    "print('')\n",
    "\n",
    "merged_fps, merged_fmap = mergeFingerprints(fps, fmap, second_th)\n",
    "print('clusters merged: ' + str(len(fmap)-len(merged_fmap)))\n",
    "print('remaining clusters: ' + str(len(merged_fmap)))"
   ]
  },
  {
   "cell_type": "code",
   "execution_count": 85,
   "metadata": {},
   "outputs": [
    {
     "data": {
      "text/plain": [
       "25"
      ]
     },
     "execution_count": 85,
     "metadata": {},
     "output_type": "execute_result"
    }
   ],
   "source": [
    "# number of nodes from ground truth community in given cluster \n",
    "len([i for i in merged_fmap[0] if i in membership[1]])"
   ]
  },
  {
   "cell_type": "markdown",
   "metadata": {},
   "source": [
    "## CDlib fitness "
   ]
  },
  {
   "cell_type": "code",
   "execution_count": 90,
   "metadata": {},
   "outputs": [
    {
     "data": {
      "text/plain": [
       "0.43215837750885905"
      ]
     },
     "execution_count": 90,
     "metadata": {},
     "output_type": "execute_result"
    }
   ],
   "source": [
    "# example\n",
    "communities = louvain(graph)\n",
    "mod = evaluation.newman_girvan_modularity(graph,communities)\n",
    "mod.score"
   ]
  },
  {
   "cell_type": "code",
   "execution_count": 88,
   "metadata": {},
   "outputs": [],
   "source": [
    "# create NodeClustering object\n",
    "\n",
    "clusters = list(merged_fmap.values())\n",
    "method = 'Nidia'\n",
    "\n",
    "# Parameters\n",
    "# communities – list of communities\n",
    "# graph – a networkx/igraph object\n",
    "# method_name – community discovery algorithm name\n",
    "\n",
    "c = cdlib.classes.node_clustering.NodeClustering(clusters, graph, method)\n",
    "score = evaluation.newman_girvan_modularity(graph,c).score"
   ]
  },
  {
   "cell_type": "code",
   "execution_count": 89,
   "metadata": {},
   "outputs": [
    {
     "data": {
      "text/plain": [
       "0.3024323574455989"
      ]
     },
     "execution_count": 89,
     "metadata": {},
     "output_type": "execute_result"
    }
   ],
   "source": [
    "score"
   ]
  },
  {
   "cell_type": "code",
   "execution_count": 14,
   "metadata": {},
   "outputs": [],
   "source": [
    "c = communities.communities\n",
    "g = nx.karate_club_graph()"
   ]
  },
  {
   "cell_type": "code",
   "execution_count": 74,
   "metadata": {},
   "outputs": [
    {
     "data": {
      "text/plain": [
       "[[8, 14, 15, 18, 20, 22, 23, 26, 27, 29, 30, 32, 33],\n",
       " [0, 1, 2, 3, 7, 9, 11, 12, 13, 17, 19, 21],\n",
       " [4, 5, 6, 10, 16],\n",
       " [24, 25, 28, 31]]"
      ]
     },
     "execution_count": 74,
     "metadata": {},
     "output_type": "execute_result"
    }
   ],
   "source": [
    "c"
   ]
  },
  {
   "cell_type": "code",
   "execution_count": 19,
   "metadata": {},
   "outputs": [],
   "source": [
    "# Parameters\n",
    "# communities – list of communities\n",
    "# graph – a networkx/igraph object\n",
    "# method_name – community discovery algorithm name\n",
    "# method_parameters – configuration for the community discovery algorithm used\n",
    "# overlap – boolean, whether the partition is overlapping or not\n",
    "\n",
    "x = cdlib.classes.node_clustering.NodeClustering(c,g,'Nidia')"
   ]
  },
  {
   "cell_type": "code",
   "execution_count": 25,
   "metadata": {},
   "outputs": [
    {
     "data": {
      "text/plain": [
       "0.4155982905982906"
      ]
     },
     "execution_count": 25,
     "metadata": {},
     "output_type": "execute_result"
    }
   ],
   "source": [
    "evaluation.newman_girvan_modularity(g,x).score"
   ]
  },
  {
   "cell_type": "code",
   "execution_count": null,
   "metadata": {},
   "outputs": [],
   "source": []
  }
 ],
 "metadata": {
  "kernelspec": {
   "display_name": "python3.7",
   "language": "python",
   "name": "python3.7"
  },
  "language_info": {
   "codemirror_mode": {
    "name": "ipython",
    "version": 3
   },
   "file_extension": ".py",
   "mimetype": "text/x-python",
   "name": "python",
   "nbconvert_exporter": "python",
   "pygments_lexer": "ipython3",
   "version": "3.7.6"
  }
 },
 "nbformat": 4,
 "nbformat_minor": 4
}
