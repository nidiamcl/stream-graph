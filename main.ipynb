{
 "nbformat": 4,
 "nbformat_minor": 2,
 "metadata": {
  "language_info": {
   "name": "python",
   "codemirror_mode": {
    "name": "ipython",
    "version": 3
   },
   "version": "3.7.5"
  },
  "orig_nbformat": 2,
  "file_extension": ".py",
  "mimetype": "text/x-python",
  "name": "python",
  "npconvert_exporter": "python",
  "pygments_lexer": "ipython3",
  "version": 3
 },
 "cells": [
  {
   "cell_type": "code",
   "execution_count": 1,
   "metadata": {},
   "outputs": [],
   "source": [
    "from streamgraph.graph import spark, sc, Graph"
   ]
  },
  {
   "cell_type": "code",
   "execution_count": 2,
   "metadata": {},
   "outputs": [
    {
     "name": "stdout",
     "output_type": "stream",
     "text": "[6.66] Loaded 13624 nodes.\n[14.65] Parsed lists within hashtags and mentions.\n[15.21] Found 3507876 edges by topic.\n[31.63] Found 4174765 edges by authority.\n[38.71] Found 510427 edges by hashtags.\n[45.30] Found 3865403 edges by mentions.\n[55.94] Found 7998447 edges in total.\n"
    }
   ],
   "source": [
    "g = Graph('/mnt/d/Datasets/harvey_streams/2017-08-25 09_00_00.csv')"
   ]
  },
  {
   "cell_type": "code",
   "execution_count": 3,
   "metadata": {},
   "outputs": [],
   "source": [
    "from pyspark.sql.functions import collect_set, collect_list, array_union, concat, array, col, sum, pandas_udf, PandasUDFType, udf\n",
    "from pyspark.sql.types import ArrayType, LongType, StructType, StructField\n",
    "from pyspark.ml.linalg import VectorUDT, SparseVector\n",
    "import pandas as pd\n",
    "import numpy as np\n",
    "\n",
    "def getNodeAdjacency(edges, num_nodes):\n",
    "    # get dataframe with bi-directional edges\n",
    "    a = edges.groupby('src').agg(collect_list('dst').alias('dst'))\n",
    "    b = edges \\\n",
    "        .withColumnRenamed('src', 'tmp') \\\n",
    "        .withColumnRenamed('dst', 'src') \\\n",
    "        .withColumnRenamed('tmp', 'dst') \\\n",
    "        .groupby('src').agg(collect_list('dst').alias('dst'))\n",
    "    neighbors = a.union(b)\n",
    "\n",
    "    @pandas_udf('node long, neighbors array<long>', PandasUDFType.GROUPED_MAP)\n",
    "    def joinArrays(a):\n",
    "        dst = np.concatenate(a.dst)\n",
    "        return pd.DataFrame([(a.src.iloc[0], dst)], columns=['node', 'neighbors'])\n",
    "\n",
    "    neighbors = neighbors.groupby('src').apply(joinArrays)\n",
    "\n",
    "    # convert to sparse vectors\n",
    "    @udf(VectorUDT())\n",
    "    def toSparse(a):\n",
    "        vector = [(dst, 1) for dst in a]\n",
    "        return SparseVector(num_nodes, vector)\n",
    "\n",
    "    neighbors = neighbors.withColumn('neighbors', toSparse('neighbors'))\n",
    "    return neighbors"
   ]
  },
  {
   "cell_type": "code",
   "execution_count": 4,
   "metadata": {},
   "outputs": [],
   "source": [
    "na = getNodeAdjacency(g.edges, g.num_nodes.value)"
   ]
  },
  {
   "cell_type": "code",
   "execution_count": 5,
   "metadata": {},
   "outputs": [
    {
     "name": "stdout",
     "output_type": "stream",
     "text": "+----+--------------------+\n|node|           neighbors|\n+----+--------------------+\n|  26|(13624,[5,18,36,4...|\n|  29|(13624,[21,58,122...|\n| 474|(13624,[9,23,35,5...|\n| 964|(13624,[5,6,9,10,...|\n|1677|(13624,[5,7,8,11,...|\n|1697|(13624,[5,7,8,11,...|\n|1806|(13624,[21,23,35,...|\n|1950|(13624,[93,95,116...|\n|2040|(13624,[20,61,79,...|\n|2214|(13624,[114,162,1...|\n|2250|(13624,[7,11,14,2...|\n|2453|(13624,[28,87,110...|\n|2509|(13624,[6,10,39,1...|\n|2529|(13624,[3,33,36,6...|\n|2927|(13624,[21,37,43,...|\n|3091|(13624,[4,77,112,...|\n|3506|(13624,[1,3,14,67...|\n|3764|(13624,[1,3,14,69...|\n|4590|(13624,[40,64,84,...|\n|4823|(13624,[7,58,61,8...|\n+----+--------------------+\nonly showing top 20 rows\n\n"
    }
   ],
   "source": [
    "na.show()"
   ]
  },
  {
   "cell_type": "code",
   "execution_count": 36,
   "metadata": {},
   "outputs": [
    {
     "data": {
      "text/plain": "[Row(id=168576), Row(id=236408), Row(id=124832), Row(id=37872)]"
     },
     "execution_count": 36,
     "metadata": {},
     "output_type": "execute_result"
    }
   ],
   "source": [
    "g.nodes.select('id').subtract(neighbors.select('src').alias('id')).collect()"
   ]
  },
  {
   "cell_type": "code",
   "execution_count": 37,
   "metadata": {},
   "outputs": [
    {
     "name": "stdout",
     "output_type": "stream",
     "text": "+------+------------------+-------------------+----------+--------------------+-----+-----+-------------+---------+--------+----------+\n|    id|         twitterID|          timestamp|      user|        originalText|topic|reply|inReplyToUser|authority|hashtags|  mentions|\n+------+------------------+-------------------+----------+--------------------+-----+-----+-------------+---------+--------+----------+\n|168576|901273847550410752|2017-08-26 02:43:24|ulovejamie|@iCyclone Thx for...|   17|false|         none| iCyclone|    null|[iCyclone]|\n+------+------------------+-------------------+----------+--------------------+-----+-----+-------------+---------+--------+----------+\n\n"
    }
   ],
   "source": [
    "g.nodes.filter(g.nodes.id == 168576).show()"
   ]
  },
  {
   "cell_type": "code",
   "execution_count": 38,
   "metadata": {},
   "outputs": [
    {
     "name": "stdout",
     "output_type": "stream",
     "text": "+------+------------------+-------------------+----------+--------------------+-----+-----+-------------+---------+--------+----------+\n|    id|         twitterID|          timestamp|      user|        originalText|topic|reply|inReplyToUser|authority|hashtags|  mentions|\n+------+------------------+-------------------+----------+--------------------+-----+-----+-------------+---------+--------+----------+\n|168576|901273847550410752|2017-08-26 02:43:24|ulovejamie|@iCyclone Thx for...|   17|false|         none| iCyclone|    null|[iCyclone]|\n+------+------------------+-------------------+----------+--------------------+-----+-----+-------------+---------+--------+----------+\n\n"
    }
   ],
   "source": [
    "g.nodes.filter(g.nodes.topic == 17).show()"
   ]
  },
  {
   "cell_type": "code",
   "execution_count": 7,
   "metadata": {},
   "outputs": [
    {
     "data": {
      "text/plain": "2399"
     },
     "execution_count": 7,
     "metadata": {},
     "output_type": "execute_result"
    }
   ],
   "source": [
    "g.nodes.select('id').distinct().count()"
   ]
  },
  {
   "cell_type": "code",
   "execution_count": null,
   "metadata": {},
   "outputs": [],
   "source": []
  }
 ]
}