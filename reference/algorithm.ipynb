{
 "cells": [
  {
   "cell_type": "code",
   "execution_count": 1,
   "metadata": {},
   "outputs": [
    {
     "name": "stdout",
     "output_type": "stream",
     "text": [
      "<pyspark.sql.session.SparkSession object at 0x7f04540fce90>\n"
     ]
    }
   ],
   "source": [
    "from __future__ import print_function\n",
    "\n",
    "import findspark\n",
    "findspark.init()\n",
    "\n",
    "from pyspark.context import SparkContext\n",
    "from pyspark.sql.session import SparkSession\n",
    "sc = SparkContext.getOrCreate()\n",
    "spark = SparkSession(sc)\n",
    "print(spark)\n",
    "\n",
    "from pyspark.mllib.linalg import *\n",
    "from pyspark.mllib.linalg.distributed import *\n",
    "from pyspark.mllib.linalg.distributed import CoordinateMatrix, MatrixEntry\n",
    "\n",
    "from pyspark.ml.linalg import SparseVector, VectorUDT\n",
    "from pyspark.sql.types import *\n",
    "from pyspark.sql.types import StructType, StructField \n",
    "\n",
    "\n",
    "import numpy as np\n",
    "from array import array\n",
    "import networkx as nx\n",
    "import scipy as sp\n",
    "import pandas as pd"
   ]
  },
  {
   "cell_type": "markdown",
   "metadata": {},
   "source": [
    "## create a dummy network"
   ]
  },
  {
   "cell_type": "code",
   "execution_count": 4,
   "metadata": {},
   "outputs": [
    {
     "data": {
      "image/png": "[encoded data removed]",
      "text/plain": [
       "<Figure size 432x288 with 1 Axes>"
      ]
     },
     "metadata": {},
     "output_type": "display_data"
    }
   ],
   "source": [
    "nodes = [0,1,2,3,4,5,6,7,8,9]\n",
    "edges = [(0,1),(0,2),(0,3),(0,4),(0,7),\n",
    "         (1,2),(1,3),(1,4),(1,7),\n",
    "         (2,3),(2,4),(2,7),\n",
    "         (3,4),(3,7),\n",
    "         (4,7),\n",
    "         (4,5),\n",
    "         (5,6),(5,9),(5,10),\n",
    "         (6,9),(6,10),(6,11),\n",
    "         (7,8),\n",
    "         (9,11),\n",
    "         (10,11),\n",
    "        ]\n",
    "\n",
    "# create graph, add nodes and edges\n",
    "G = nx.Graph()\n",
    "G.add_nodes_from(nodes)\n",
    "G.add_edges_from(edges)\n",
    "A = nx.adjacency_matrix(G)\n",
    "\n",
    "# plot\n",
    "# 'E0E0E0', 'FFCC99', '#82A9D0', '#F9C56A', '#FF9999', '#A4CACA', '#7DCACA' '#F6D66F'\n",
    "nx.draw(G, with_labels=True, font_weight='bold', node_color='#F9C56A')"
   ]
  },
  {
   "cell_type": "code",
   "execution_count": 5,
   "metadata": {},
   "outputs": [
    {
     "data": {
      "text/html": [
       "<div>\n",
       "<style scoped>\n",
       "    .dataframe tbody tr th:only-of-type {\n",
       "        vertical-align: middle;\n",
       "    }\n",
       "\n",
       "    .dataframe tbody tr th {\n",
       "        vertical-align: top;\n",
       "    }\n",
       "\n",
       "    .dataframe thead th {\n",
       "        text-align: right;\n",
       "    }\n",
       "</style>\n",
       "<table border=\"1\" class=\"dataframe\">\n",
       "  <thead>\n",
       "    <tr style=\"text-align: right;\">\n",
       "      <th></th>\n",
       "      <th>node</th>\n",
       "      <th>neighbors</th>\n",
       "    </tr>\n",
       "  </thead>\n",
       "  <tbody>\n",
       "    <tr>\n",
       "      <th>0</th>\n",
       "      <td>0</td>\n",
       "      <td>[1, 2, 3, 4, 7]</td>\n",
       "    </tr>\n",
       "    <tr>\n",
       "      <th>1</th>\n",
       "      <td>1</td>\n",
       "      <td>[0, 2, 3, 4, 7]</td>\n",
       "    </tr>\n",
       "    <tr>\n",
       "      <th>2</th>\n",
       "      <td>2</td>\n",
       "      <td>[0, 1, 3, 4, 7]</td>\n",
       "    </tr>\n",
       "    <tr>\n",
       "      <th>3</th>\n",
       "      <td>3</td>\n",
       "      <td>[0, 1, 2, 4, 7]</td>\n",
       "    </tr>\n",
       "    <tr>\n",
       "      <th>4</th>\n",
       "      <td>4</td>\n",
       "      <td>[0, 1, 2, 3, 7, 5]</td>\n",
       "    </tr>\n",
       "    <tr>\n",
       "      <th>5</th>\n",
       "      <td>5</td>\n",
       "      <td>[4, 6, 9, 10]</td>\n",
       "    </tr>\n",
       "    <tr>\n",
       "      <th>6</th>\n",
       "      <td>6</td>\n",
       "      <td>[5, 9, 10, 11]</td>\n",
       "    </tr>\n",
       "    <tr>\n",
       "      <th>7</th>\n",
       "      <td>7</td>\n",
       "      <td>[0, 1, 2, 3, 4, 8]</td>\n",
       "    </tr>\n",
       "    <tr>\n",
       "      <th>8</th>\n",
       "      <td>8</td>\n",
       "      <td>[7]</td>\n",
       "    </tr>\n",
       "    <tr>\n",
       "      <th>9</th>\n",
       "      <td>9</td>\n",
       "      <td>[5, 6, 11]</td>\n",
       "    </tr>\n",
       "    <tr>\n",
       "      <th>10</th>\n",
       "      <td>10</td>\n",
       "      <td>[5, 6, 11]</td>\n",
       "    </tr>\n",
       "    <tr>\n",
       "      <th>11</th>\n",
       "      <td>11</td>\n",
       "      <td>[6, 9, 10]</td>\n",
       "    </tr>\n",
       "  </tbody>\n",
       "</table>\n",
       "</div>"
      ],
      "text/plain": [
       "    node           neighbors\n",
       "0      0     [1, 2, 3, 4, 7]\n",
       "1      1     [0, 2, 3, 4, 7]\n",
       "2      2     [0, 1, 3, 4, 7]\n",
       "3      3     [0, 1, 2, 4, 7]\n",
       "4      4  [0, 1, 2, 3, 7, 5]\n",
       "5      5       [4, 6, 9, 10]\n",
       "6      6      [5, 9, 10, 11]\n",
       "7      7  [0, 1, 2, 3, 4, 8]\n",
       "8      8                 [7]\n",
       "9      9          [5, 6, 11]\n",
       "10    10          [5, 6, 11]\n",
       "11    11          [6, 9, 10]"
      ]
     },
     "execution_count": 5,
     "metadata": {},
     "output_type": "execute_result"
    }
   ],
   "source": [
    "# create a pandas dataframe \n",
    "graph_df = pd.DataFrame(columns = ['node', 'neighbors'])\n",
    "graph_df['node'] = list(G.nodes)\n",
    "graph_df['neighbors'] = graph_df['node'].apply(lambda node: [dst for src,dst in G.edges(node)])\n",
    "graph_df"
   ]
  },
  {
   "cell_type": "code",
   "execution_count": 6,
   "metadata": {},
   "outputs": [
    {
     "data": {
      "text/plain": [
       "matrix([[0, 1, 1, 1, 1, 0, 0, 1, 0, 0, 0, 0],\n",
       "        [1, 0, 1, 1, 1, 0, 0, 1, 0, 0, 0, 0],\n",
       "        [1, 1, 0, 1, 1, 0, 0, 1, 0, 0, 0, 0],\n",
       "        [1, 1, 1, 0, 1, 0, 0, 1, 0, 0, 0, 0],\n",
       "        [1, 1, 1, 1, 0, 1, 0, 1, 0, 0, 0, 0],\n",
       "        [0, 0, 0, 0, 1, 0, 1, 0, 0, 1, 1, 0],\n",
       "        [0, 0, 0, 0, 0, 1, 0, 0, 0, 1, 1, 1],\n",
       "        [1, 1, 1, 1, 1, 0, 0, 0, 1, 0, 0, 0],\n",
       "        [0, 0, 0, 0, 0, 0, 0, 1, 0, 0, 0, 0],\n",
       "        [0, 0, 0, 0, 0, 1, 1, 0, 0, 0, 0, 1],\n",
       "        [0, 0, 0, 0, 0, 1, 1, 0, 0, 0, 0, 1],\n",
       "        [0, 0, 0, 0, 0, 0, 1, 0, 0, 1, 1, 0]], dtype=int64)"
      ]
     },
     "execution_count": 6,
     "metadata": {},
     "output_type": "execute_result"
    }
   ],
   "source": [
    "A = nx.adjacency_matrix(G)\n",
    "A = A.todense()\n",
    "A"
   ]
  },
  {
   "cell_type": "code",
   "execution_count": 7,
   "metadata": {},
   "outputs": [
    {
     "name": "stdout",
     "output_type": "stream",
     "text": [
      "31.3 ms ± 0 ns per loop (mean ± std. dev. of 1 run, 1 loop each)\n"
     ]
    }
   ],
   "source": [
    "# Create spark df from pandas df without arrow is still extremely slow! \n",
    "# Mostly because Spark must iterate through each row of data \n",
    "# and do type checking and conversions from Python to Java for each value, \n",
    "# which in tern furces Numpy to convert data to plain Python objects and serialize these to the JVM.\n",
    "\n",
    "%timeit -r1 df = spark.createDataFrame(graph_df)"
   ]
  },
  {
   "cell_type": "code",
   "execution_count": 10,
   "metadata": {},
   "outputs": [],
   "source": [
    "# Now enable Arrow, this can also be done by adding as a line in spark-defaults.conf\n",
    "\n",
    "spark.conf.set('spark.sql.execution.arrow.enabled', 'true')\n",
    "df = spark.createDataFrame(graph_df)"
   ]
  },
  {
   "cell_type": "code",
   "execution_count": 11,
   "metadata": {},
   "outputs": [
    {
     "name": "stdout",
     "output_type": "stream",
     "text": [
      "+----+------------------+\n",
      "|node|         neighbors|\n",
      "+----+------------------+\n",
      "|   0|   [1, 2, 3, 4, 7]|\n",
      "|   1|   [0, 2, 3, 4, 7]|\n",
      "|   2|   [0, 1, 3, 4, 7]|\n",
      "|   3|   [0, 1, 2, 4, 7]|\n",
      "|   4|[0, 1, 2, 3, 7, 5]|\n",
      "|   5|     [4, 6, 9, 10]|\n",
      "|   6|    [5, 9, 10, 11]|\n",
      "|   7|[0, 1, 2, 3, 4, 8]|\n",
      "|   8|               [7]|\n",
      "|   9|        [5, 6, 11]|\n",
      "|  10|        [5, 6, 11]|\n",
      "|  11|        [6, 9, 10]|\n",
      "+----+------------------+\n",
      "\n"
     ]
    }
   ],
   "source": [
    "df.show()"
   ]
  },
  {
   "cell_type": "code",
   "execution_count": 12,
   "metadata": {},
   "outputs": [],
   "source": [
    "def getVector(lst_neighbors,size):\n",
    "    '''\n",
    "    creates vector from neighbor list by computing an \"adjacency\" array \n",
    "    and turns it into pyspark DenseVector \n",
    "    '''\n",
    "    arr = np.zeros(size)\n",
    "    arr[lst_neighbors] = 1\n",
    "    return DenseVector(arr)\n",
    "\n",
    "# There are 3 ways of creating a sparse vector, either works\n",
    "\n",
    "def get_sparseVec(lst_neighbors, size=df.count()):\n",
    "    '''\n",
    "    gets list of node's neighbors and creates pyspark spark vector\n",
    "    '''\n",
    "    idx = lst_neighbors\n",
    "    values = [1]*len(idx)\n",
    "    return Vectors.sparse(size,idx,values) # I'm passing a list of increasing indices [3,4,5,16,25] and a list of values [1,1,1...N]\n",
    "\n",
    "def create_sparseVec(lst_neighbors, size=df.count()):\n",
    "    '''\n",
    "    gets list of node's neighbors and creates pyspark spark vector\n",
    "    Create a sparse vector, using either a dictionary, a list of\n",
    "    (index, value) pairs, or two separate arrays of indices and\n",
    "    values (sorted by index).\n",
    "\n",
    "    :param size: Size of the vector.\n",
    "    :param args: Active entries, as a dictionary {index: value, ...},\n",
    "    a list of tuples [(index, value), ...], \n",
    "    or a list of strictly increasing indices and a list of corresponding values [index, ...],\n",
    "    [value, ...]. Inactive entries are treated as zeros.\n",
    "    '''\n",
    "    lst_dst_val = [(dst,1) for dst in lst_neighbors] # I'm creting a list of tuples [(index, value), ...] to pass as args\n",
    "    return SparseVector(size, lst_dst_val)\n",
    "\n",
    "def getSimilarity(fp, vec):\n",
    "    '''\n",
    "    shared elements between (fp,vec) / number of non-zero elements in vec\n",
    "    '''\n",
    "    return vec.dot(fp).max() / vec.values.sum()"
   ]
  },
  {
   "cell_type": "code",
   "execution_count": 24,
   "metadata": {},
   "outputs": [],
   "source": [
    "empty_denseVec = getVector([],df.count())"
   ]
  },
  {
   "cell_type": "code",
   "execution_count": 45,
   "metadata": {},
   "outputs": [],
   "source": [
    "fps = spark.createDataFrame([(0, empty_denseVec) * df.count()], ['num', 'vectors'])"
   ]
  },
  {
   "cell_type": "code",
   "execution_count": 13,
   "metadata": {},
   "outputs": [
    {
     "name": "stdout",
     "output_type": "stream",
     "text": [
      "[1, 2, 3, 4, 7]\n",
      "[0, 2, 3, 4, 7]\n",
      "0.8\n"
     ]
    }
   ],
   "source": [
    "# equivalent to df.neighbors.iloc[0]\n",
    "x = df.collect()[0]['neighbors']\n",
    "# x = df.collect()[0][1]\n",
    "print(x)\n",
    "\n",
    "y = df.collect()[1]['neighbors']\n",
    "print(y)\n",
    "\n",
    "a = get_sparseVec(x)\n",
    "b = DenseVector(get_sparseVec(y))\n",
    "\n",
    "sim = getSimilarity(a,b)\n",
    "print(sim)\n",
    "\n",
    "# print(type(a.toArray()))\n",
    "# b.numNonzeros()\n",
    "# DenseVector(a.toArray())"
   ]
  },
  {
   "cell_type": "code",
   "execution_count": 17,
   "metadata": {},
   "outputs": [
    {
     "data": {
      "text/plain": [
       "4.0"
      ]
     },
     "execution_count": 17,
     "metadata": {},
     "output_type": "execute_result"
    }
   ],
   "source": [
    "# can do a dot product with SparseVector and np array\n",
    "a.dot(getVector([0, 2, 3, 4, 7],df.count()).toArray())\n",
    "\n",
    "#can do a dot product with a SparseVector and DenseVector\n",
    "a.dot(getVector([0, 2, 3, 4, 7],df.count()))"
   ]
  },
  {
   "cell_type": "code",
   "execution_count": null,
   "metadata": {},
   "outputs": [],
   "source": []
  },
  {
   "cell_type": "code",
   "execution_count": null,
   "metadata": {},
   "outputs": [],
   "source": []
  },
  {
   "cell_type": "code",
   "execution_count": 51,
   "metadata": {},
   "outputs": [
    {
     "data": {
      "text/plain": [
       "(1, (1, 4))"
      ]
     },
     "execution_count": 51,
     "metadata": {},
     "output_type": "execute_result"
    }
   ],
   "source": [
    "# Broadcast variables allow the programmer to keep a read-only variable cached on each machine rather than shipping a copy of it with tasks\n",
    "# Created with SparkContext.broadcast()\n",
    "b = [(1,(1, 4)), (2, (2, 5)), (3, (4,5))]\n",
    "rdd_b = sc.broadcast(b)\n",
    "rdd_b.value[0]"
   ]
  },
  {
   "cell_type": "code",
   "execution_count": null,
   "metadata": {},
   "outputs": [],
   "source": [
    "f = []"
   ]
  },
  {
   "cell_type": "code",
   "execution_count": 50,
   "metadata": {},
   "outputs": [],
   "source": []
  },
  {
   "cell_type": "code",
   "execution_count": 16,
   "metadata": {},
   "outputs": [],
   "source": [
    "# user-defined type (UDT) for Vector\n",
    "schema = StructType([StructField(\"fpVec\", VectorUDT(), True)])\n",
    "\n",
    "from pyspark.sql.functions import udf, col, pandas_udf\n",
    "from pyspark.sql.types import LongType\n",
    "\n",
    "get_sparsevec = udf(get_sparseVec, schema)\n",
    "create_sparsevec = udf(create_sparseVec, schema)\n",
    "get_similarity = udf(getSimilarity, LongType())"
   ]
  },
  {
   "cell_type": "code",
   "execution_count": null,
   "metadata": {},
   "outputs": [],
   "source": []
  },
  {
   "cell_type": "code",
   "execution_count": null,
   "metadata": {},
   "outputs": [],
   "source": []
  },
  {
   "cell_type": "code",
   "execution_count": null,
   "metadata": {},
   "outputs": [],
   "source": []
  }
 ],
 "metadata": {
  "kernelspec": {
   "display_name": "pySpark (Spark 2.4.4)",
   "language": "python",
   "name": "pyspark"
  },
  "language_info": {
   "codemirror_mode": {
    "name": "ipython",
    "version": 3
   },
   "file_extension": ".py",
   "mimetype": "text/x-python",
   "name": "python",
   "nbconvert_exporter": "python",
   "pygments_lexer": "ipython3",
   "version": "3.7.4"
  }
 },
 "nbformat": 4,
 "nbformat_minor": 4
}
